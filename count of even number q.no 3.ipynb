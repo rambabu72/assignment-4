{
 "cells": [
  {
   "cell_type": "markdown",
   "id": "e7c72d68",
   "metadata": {},
   "source": [
    "#  count of even and odd function"
   ]
  },
  {
   "cell_type": "code",
   "execution_count": null,
   "id": "d54aa0bd",
   "metadata": {},
   "outputs": [],
   "source": []
  },
  {
   "cell_type": "code",
   "execution_count": 5,
   "id": "d2381860",
   "metadata": {},
   "outputs": [
    {
     "name": "stdout",
     "output_type": "stream",
     "text": [
      "0  is even\n",
      "1  is odd\n",
      "2  is even\n",
      "3  is odd\n",
      "4  is even\n",
      "5  is odd\n",
      "6  is even\n",
      "7  is odd\n",
      "8  is even\n",
      "total even numbers = {} 5\n",
      " total odd numbers = {} 4\n"
     ]
    }
   ],
   "source": [
    "x = 0\n",
    "y = 0\n",
    "for i in range(0,9):\n",
    "    if i % 2 ==0:\n",
    "        print(i,\" is even\")\n",
    "        x = x+1\n",
    "    else:\n",
    "        print(i,\" is odd\")\n",
    "        y = y+1\n",
    "        \n",
    "        \n",
    "        \n",
    "        \n",
    "print(\"total even numbers = {}\",x)\n",
    "print(\" total odd numbers = {}\",y)"
   ]
  },
  {
   "cell_type": "code",
   "execution_count": 7,
   "id": "f2de07cb",
   "metadata": {},
   "outputs": [
    {
     "name": "stdout",
     "output_type": "stream",
     "text": [
      "0  is even\n",
      "1  is odd\n",
      "2  is even\n",
      "3  is odd\n",
      "4  is even\n",
      "5  is odd\n",
      "6  is even\n",
      "7  is odd\n",
      "8  is even\n",
      "total even numbers = {} 5\n",
      " total odd numbers = {} 4\n",
      "___________________________________________Explain again____________________________________________\n",
      "----------------------------------------Assignment completed----------------------------------------\n",
      "*******************************************thank you sir********************************************\n"
     ]
    }
   ],
   "source": [
    "x = 0\n",
    "y = 0\n",
    "for i in range(0,9):\n",
    "    if i % 2 ==0:\n",
    "        print(i,\" is even\")\n",
    "        x = x+1\n",
    "    else:\n",
    "        print(i,\" is odd\")\n",
    "        y = y+1\n",
    "        \n",
    "        \n",
    "        \n",
    "        \n",
    "print(\"total even numbers = {}\",x)\n",
    "print(\" total odd numbers = {}\",y)\n",
    "\n",
    "print(\"Explain again\".center(100,\"_\"))\n",
    "print(\"Assignment completed\".center(100,\"-\"))\n",
    "print(\"thank you sir\".center(100,\"*\"))"
   ]
  },
  {
   "cell_type": "code",
   "execution_count": null,
   "id": "3b564e5b",
   "metadata": {},
   "outputs": [],
   "source": []
  }
 ],
 "metadata": {
  "kernelspec": {
   "display_name": "Python 3 (ipykernel)",
   "language": "python",
   "name": "python3"
  },
  "language_info": {
   "codemirror_mode": {
    "name": "ipython",
    "version": 3
   },
   "file_extension": ".py",
   "mimetype": "text/x-python",
   "name": "python",
   "nbconvert_exporter": "python",
   "pygments_lexer": "ipython3",
   "version": "3.9.7"
  }
 },
 "nbformat": 4,
 "nbformat_minor": 5
}
