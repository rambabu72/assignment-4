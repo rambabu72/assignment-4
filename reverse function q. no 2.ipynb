{
 "cells": [
  {
   "cell_type": "markdown",
   "id": "052fc3c8",
   "metadata": {},
   "source": [
    "# reverse function"
   ]
  },
  {
   "cell_type": "code",
   "execution_count": 12,
   "id": "2979008a",
   "metadata": {},
   "outputs": [
    {
     "data": {
      "text/plain": [
       "'Edyoda'"
      ]
     },
     "execution_count": 12,
     "metadata": {},
     "output_type": "execute_result"
    }
   ],
   "source": [
    "x = \"Edyoda\"\n",
    "x"
   ]
  },
  {
   "cell_type": "code",
   "execution_count": 13,
   "id": "35dc8427",
   "metadata": {},
   "outputs": [
    {
     "data": {
      "text/plain": [
       "(str, 2094428331824)"
      ]
     },
     "execution_count": 13,
     "metadata": {},
     "output_type": "execute_result"
    }
   ],
   "source": [
    "type(x),id(x)"
   ]
  },
  {
   "cell_type": "code",
   "execution_count": 15,
   "id": "3b279c94",
   "metadata": {},
   "outputs": [
    {
     "data": {
      "text/plain": [
       "('E', 'd', 'y', 'o')"
      ]
     },
     "execution_count": 15,
     "metadata": {},
     "output_type": "execute_result"
    }
   ],
   "source": [
    "x[0],x[1],x[2],x[3]"
   ]
  },
  {
   "cell_type": "code",
   "execution_count": 16,
   "id": "ce0bd22b",
   "metadata": {},
   "outputs": [
    {
     "data": {
      "text/plain": [
       "6"
      ]
     },
     "execution_count": 16,
     "metadata": {},
     "output_type": "execute_result"
    }
   ],
   "source": [
    "len(x)"
   ]
  },
  {
   "cell_type": "code",
   "execution_count": 17,
   "id": "a9d8ed6e",
   "metadata": {},
   "outputs": [],
   "source": [
    "#  reverse"
   ]
  },
  {
   "cell_type": "code",
   "execution_count": 18,
   "id": "33cfb906",
   "metadata": {},
   "outputs": [
    {
     "data": {
      "text/plain": [
       "'Edyoda'"
      ]
     },
     "execution_count": 18,
     "metadata": {},
     "output_type": "execute_result"
    }
   ],
   "source": [
    "x"
   ]
  },
  {
   "cell_type": "code",
   "execution_count": 20,
   "id": "fda2b0c1",
   "metadata": {},
   "outputs": [
    {
     "data": {
      "text/plain": [
       "'adoydE'"
      ]
     },
     "execution_count": 20,
     "metadata": {},
     "output_type": "execute_result"
    }
   ],
   "source": [
    "x[::-1]\n",
    "#  this is output"
   ]
  },
  {
   "cell_type": "code",
   "execution_count": null,
   "id": "bc138cb7",
   "metadata": {},
   "outputs": [],
   "source": []
  }
 ],
 "metadata": {
  "kernelspec": {
   "display_name": "Python 3 (ipykernel)",
   "language": "python",
   "name": "python3"
  },
  "language_info": {
   "codemirror_mode": {
    "name": "ipython",
    "version": 3
   },
   "file_extension": ".py",
   "mimetype": "text/x-python",
   "name": "python",
   "nbconvert_exporter": "python",
   "pygments_lexer": "ipython3",
   "version": "3.9.7"
  }
 },
 "nbformat": 4,
 "nbformat_minor": 5
}
